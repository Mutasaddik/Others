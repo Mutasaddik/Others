{
 "cells": [
  {
   "cell_type": "markdown",
   "metadata": {
    "id": "O5x7T2XxRqdv"
   },
   "source": [
    "### Problem: Maximize f(x) = x^3-11x^2+150 when x = 0 to 255"
   ]
  },
  {
   "cell_type": "markdown",
   "metadata": {
    "id": "ywY6mjLkRqd2"
   },
   "source": [
    "Representation or ecoding solution:\n",
    "x can be represented using 8 bits binary number."
   ]
  },
  {
   "cell_type": "markdown",
   "metadata": {
    "id": "h_AzBq1MRqd3"
   },
   "source": [
    "# Step 1: Initialize Population"
   ]
  },
  {
   "cell_type": "code",
   "execution_count": 26,
   "metadata": {
    "_cell_guid": "b1076dfc-b9ad-4769-8c92-a6c4dae69d19",
    "_uuid": "8f2839f25d086af736a60e9eeb907d3b93b6e0e5",
    "executionInfo": {
     "elapsed": 574,
     "status": "ok",
     "timestamp": 1647840681919,
     "user": {
      "displayName": "Ashraf Uddin",
      "photoUrl": "https://lh3.googleusercontent.com/a-/AOh14GjBdAa8YVVeKPAj-6WRIHqgGMOom16hPYcrG5tkEw=s64",
      "userId": "01747740824393644374"
     },
     "user_tz": -360
    },
    "id": "1bOfcsluRqd4"
   },
   "outputs": [],
   "source": [
    "import random\n",
    "def initPopulation(b, n = 10): # n is the number of solutions, b is the length\n",
    "    p = [] # to store solution set/ initial population\n",
    "    for i in range(n):\n",
    "        s = [] # to store a solution as a list\n",
    "        for j in range(b):\n",
    "            s.append(random.choice([0,1]))    \n",
    "        p.append(s)\n",
    "    return p"
   ]
  },
  {
   "cell_type": "code",
   "execution_count": 27,
   "metadata": {
    "colab": {
     "base_uri": "https://localhost:8080/"
    },
    "executionInfo": {
     "elapsed": 606,
     "status": "ok",
     "timestamp": 1647841162166,
     "user": {
      "displayName": "Ashraf Uddin",
      "photoUrl": "https://lh3.googleusercontent.com/a-/AOh14GjBdAa8YVVeKPAj-6WRIHqgGMOom16hPYcrG5tkEw=s64",
      "userId": "01747740824393644374"
     },
     "user_tz": -360
    },
    "id": "xqpElpd6Rqd7",
    "outputId": "49747382-9ae4-4b30-9af6-32608947482b"
   },
   "outputs": [
    {
     "data": {
      "text/plain": [
       "[[1, 1, 1, 1, 0, 0, 1, 1],\n",
       " [1, 0, 1, 0, 1, 1, 1, 0],\n",
       " [0, 0, 1, 1, 1, 1, 0, 0],\n",
       " [0, 1, 0, 1, 0, 0, 0, 1],\n",
       " [0, 1, 1, 1, 0, 1, 0, 0],\n",
       " [1, 0, 1, 0, 0, 1, 0, 0],\n",
       " [1, 0, 0, 1, 0, 0, 0, 0],\n",
       " [0, 1, 1, 0, 0, 1, 0, 0],\n",
       " [0, 1, 1, 1, 1, 1, 1, 0],\n",
       " [0, 1, 1, 1, 0, 1, 1, 0],\n",
       " [0, 0, 0, 1, 0, 1, 0, 1],\n",
       " [0, 1, 1, 0, 0, 1, 1, 1],\n",
       " [1, 0, 1, 1, 0, 1, 1, 1],\n",
       " [1, 0, 0, 0, 1, 0, 0, 1],\n",
       " [0, 1, 0, 0, 1, 0, 0, 0]]"
      ]
     },
     "execution_count": 27,
     "metadata": {},
     "output_type": "execute_result"
    }
   ],
   "source": [
    "population = initPopulation(8,15)\n",
    "population"
   ]
  },
  {
   "cell_type": "code",
   "execution_count": 16,
   "metadata": {
    "colab": {
     "base_uri": "https://localhost:8080/"
    },
    "executionInfo": {
     "elapsed": 15,
     "status": "ok",
     "timestamp": 1647830551748,
     "user": {
      "displayName": "Ashraf Uddin",
      "photoUrl": "https://lh3.googleusercontent.com/a-/AOh14GjBdAa8YVVeKPAj-6WRIHqgGMOom16hPYcrG5tkEw=s64",
      "userId": "01747740824393644374"
     },
     "user_tz": -360
    },
    "id": "2hakdFpxVZuw",
    "outputId": "356553a9-b9cf-4b9b-e66f-d5ac2b20acba"
   },
   "outputs": [
    {
     "data": {
      "text/plain": [
       "[1, 0, 1, 1, 0, 0]"
      ]
     },
     "execution_count": 16,
     "metadata": {},
     "output_type": "execute_result"
    }
   ],
   "source": [
    "population[5]"
   ]
  },
  {
   "cell_type": "markdown",
   "metadata": {
    "id": "295Y_a8JRqd8"
   },
   "source": [
    "# Step 2: Reproduction or Parent Selection"
   ]
  },
  {
   "cell_type": "markdown",
   "metadata": {
    "id": "Q-2xm1Y0Rqd9"
   },
   "source": [
    "Fitness Calculation"
   ]
  },
  {
   "cell_type": "code",
   "execution_count": 28,
   "metadata": {
    "id": "Vq5c5X5DRqd-",
    "outputId": "96af2c60-16fc-4f75-fe24-b67a837447b8"
   },
   "outputs": [
    {
     "data": {
      "text/plain": [
       "[4, 3, 2, 1, 0]"
      ]
     },
     "execution_count": 28,
     "metadata": {},
     "output_type": "execute_result"
    }
   ],
   "source": [
    "[i for i in range(4,-1,-1)]"
   ]
  },
  {
   "cell_type": "code",
   "execution_count": 29,
   "metadata": {
    "executionInfo": {
     "elapsed": 580,
     "status": "ok",
     "timestamp": 1647841131072,
     "user": {
      "displayName": "Ashraf Uddin",
      "photoUrl": "https://lh3.googleusercontent.com/a-/AOh14GjBdAa8YVVeKPAj-6WRIHqgGMOom16hPYcrG5tkEw=s64",
      "userId": "01747740824393644374"
     },
     "user_tz": -360
    },
    "id": "GeSnMD0hRqd_"
   },
   "outputs": [],
   "source": [
    "def getFitness(p): # p is the whole population\n",
    "    f = [] # to store fitness values\n",
    "    for sol in p:\n",
    "        d = 0 # decimel value\n",
    "        b = len(sol)\n",
    "        for i in range(b-1,-1,-1): # binary to decimel\n",
    "            d = d + sol[i]*2**(b-1-i)\n",
    "        #print(d)\n",
    "        v = d**3 - 11*d**2 + 150\n",
    "        if v< 0: f.append(0)\n",
    "        else: f.append(v) # fitness function\n",
    "    return f"
   ]
  },
  {
   "cell_type": "code",
   "execution_count": 22,
   "metadata": {
    "colab": {
     "base_uri": "https://localhost:8080/"
    },
    "executionInfo": {
     "elapsed": 600,
     "status": "ok",
     "timestamp": 1647841182813,
     "user": {
      "displayName": "Ashraf Uddin",
      "photoUrl": "https://lh3.googleusercontent.com/a-/AOh14GjBdAa8YVVeKPAj-6WRIHqgGMOom16hPYcrG5tkEw=s64",
      "userId": "01747740824393644374"
     },
     "user_tz": -360
    },
    "id": "bDE-fRdFRqeB",
    "outputId": "19dc2cef-9341-42b3-b818-f425c840b5cd"
   },
   "outputs": [
    {
     "data": {
      "text/plain": [
       "[9564630,\n",
       " 5955300,\n",
       " 54834,\n",
       " 946914,\n",
       " 554850,\n",
       " 4350834,\n",
       " 1302588,\n",
       " 14398274,\n",
       " 6256038,\n",
       " 11130414,\n",
       " 2877810,\n",
       " 575394,\n",
       " 11280678,\n",
       " 150,\n",
       " 217238]"
      ]
     },
     "execution_count": 22,
     "metadata": {},
     "output_type": "execute_result"
    }
   ],
   "source": [
    "fitness = getFitness(population)\n",
    "fitness"
   ]
  },
  {
   "cell_type": "markdown",
   "metadata": {
    "id": "MuyfwGTDRqeC"
   },
   "source": [
    "calculate probability and select parents"
   ]
  },
  {
   "cell_type": "code",
   "execution_count": 30,
   "metadata": {
    "executionInfo": {
     "elapsed": 798,
     "status": "ok",
     "timestamp": 1647841649532,
     "user": {
      "displayName": "Ashraf Uddin",
      "photoUrl": "https://lh3.googleusercontent.com/a-/AOh14GjBdAa8YVVeKPAj-6WRIHqgGMOom16hPYcrG5tkEw=s64",
      "userId": "01747740824393644374"
     },
     "user_tz": -360
    },
    "id": "lK4uQOsrRqeC"
   },
   "outputs": [],
   "source": [
    "def select_parent(n, pop): # probability, parent selection\n",
    "    # probability\n",
    "    fitness = getFitness(pop)\n",
    "    total_fitness = sum(fitness)\n",
    "    prob = [round(f/total_fitness,3) for f in fitness]\n",
    "    # parent selection\n",
    "    parents = []\n",
    "    for i in range(n):\n",
    "        # roullete wheel, generate a random number\n",
    "        r = random.choice(range(1,1001,1))/1000\n",
    "        #print(r)\n",
    "        lim = 0\n",
    "        # check bin number of r\n",
    "        for j in range(len(prob)):\n",
    "            lim = lim + prob[j]\n",
    "            if r <= lim :#checking the bin\n",
    "                print(j)\n",
    "                parents.append(pop[j])\n",
    "                break\n",
    "    return parents"
   ]
  },
  {
   "cell_type": "code",
   "execution_count": 31,
   "metadata": {
    "colab": {
     "base_uri": "https://localhost:8080/"
    },
    "executionInfo": {
     "elapsed": 754,
     "status": "ok",
     "timestamp": 1647841678331,
     "user": {
      "displayName": "Ashraf Uddin",
      "photoUrl": "https://lh3.googleusercontent.com/a-/AOh14GjBdAa8YVVeKPAj-6WRIHqgGMOom16hPYcrG5tkEw=s64",
      "userId": "01747740824393644374"
     },
     "user_tz": -360
    },
    "id": "3-lCH3ZoRqeD",
    "outputId": "c5a6c6ed-c2bb-48a0-d9e5-f689e49d3650"
   },
   "outputs": [
    {
     "name": "stdout",
     "output_type": "stream",
     "text": [
      "12\n",
      "1\n",
      "1\n",
      "0\n",
      "8\n",
      "0\n"
     ]
    },
    {
     "data": {
      "text/plain": [
       "[[1, 0, 1, 1, 0, 1, 1, 1],\n",
       " [1, 0, 1, 0, 1, 1, 1, 0],\n",
       " [1, 0, 1, 0, 1, 1, 1, 0],\n",
       " [1, 1, 1, 1, 0, 0, 1, 1],\n",
       " [0, 1, 1, 1, 1, 1, 1, 0],\n",
       " [1, 1, 1, 1, 0, 0, 1, 1]]"
      ]
     },
     "execution_count": 31,
     "metadata": {},
     "output_type": "execute_result"
    }
   ],
   "source": [
    "parents = select_parent(6, population)\n",
    "parents"
   ]
  },
  {
   "cell_type": "markdown",
   "metadata": {
    "id": "HTf2wgA_RqeE"
   },
   "source": [
    "# Step 3: Crossover"
   ]
  },
  {
   "cell_type": "code",
   "execution_count": 35,
   "metadata": {
    "id": "PwgF2uv6RqeF",
    "outputId": "86154aa5-5ebb-4a86-b3c6-ce0c1f6fc5e8"
   },
   "outputs": [],
   "source": [
    "def crossover(parent1, parent2, crossover_point):\n",
    "    offspring1, offspring2 = list(parent1),list(parent2)\n",
    "    \n",
    "    for i in range(crossover_point,len(offspring1)):\n",
    "        offspring1[i],offspring2[i] = offspring2[i],offspring1[i]\n",
    "    offspring1,offspring2 = ''.join(offspring1),''.join(offspring2)\n",
    "    return offspring1,offspring2"
   ]
  },
  {
   "cell_type": "code",
   "execution_count": 36,
   "metadata": {},
   "outputs": [
    {
     "name": "stdout",
     "output_type": "stream",
     "text": [
      "Crossover point: 6\n",
      "Crossover Point: 10110045896587412365\n",
      "Crossover Point: 01001700124532548756\n"
     ]
    }
   ],
   "source": [
    "parent1 = '10110000124532548756'\n",
    "parent2 = '01001745896587412365'\n",
    "cp = random.choice(range(1,8))\n",
    "print('Crossover point:',cp)\n",
    "offspring1,offspring2 = crossover(parent1,parent2,cp)\n",
    "print('Crossover Point:',offspring1)\n",
    "print('Crossover Point:',offspring2)"
   ]
  },
  {
   "cell_type": "markdown",
   "metadata": {
    "id": "Zx8t0GLTRqeG"
   },
   "source": [
    "# Step 4: Select Survivor\n",
    "The selected survivors (solutions) will be added to population"
   ]
  },
  {
   "cell_type": "markdown",
   "metadata": {
    "id": "aTh52_9WRqeG"
   },
   "source": [
    "Select top 2 offspring based on fitness value and add them to population."
   ]
  },
  {
   "cell_type": "markdown",
   "metadata": {
    "id": "yUUSEWOXRqeH"
   },
   "source": [
    "Repeat Step 2 to 4 for further iterations"
   ]
  },
  {
   "cell_type": "code",
   "execution_count": null,
   "metadata": {
    "id": "MhgbFzZHRqeH"
   },
   "outputs": [],
   "source": [
    "# define a method to select top offsprings (input offsprings, top)\n"
   ]
  },
  {
   "cell_type": "code",
   "execution_count": 47,
   "metadata": {
    "colab": {
     "base_uri": "https://localhost:8080/"
    },
    "executionInfo": {
     "elapsed": 567,
     "status": "ok",
     "timestamp": 1647837934527,
     "user": {
      "displayName": "Ashraf Uddin",
      "photoUrl": "https://lh3.googleusercontent.com/a-/AOh14GjBdAa8YVVeKPAj-6WRIHqgGMOom16hPYcrG5tkEw=s64",
      "userId": "01747740824393644374"
     },
     "user_tz": -360
    },
    "id": "KljS3ns1tOSW",
    "outputId": "4659d953-56b4-4de1-f3a4-82d2489bd909"
   },
   "outputs": [
    {
     "name": "stdout",
     "output_type": "stream",
     "text": [
      "[0 3 5 1 4 2]\n"
     ]
    },
    {
     "data": {
      "text/plain": [
       "[2, 4]"
      ]
     },
     "execution_count": 47,
     "metadata": {},
     "output_type": "execute_result"
    }
   ],
   "source": [
    "import numpy as np\n",
    "v =np.array( [2,5,8,3,7,4])\n",
    "print(v.argsort())\n",
    "ind = v.argsort()[-1:-3:-1]\n",
    "list(ind)"
   ]
  }
 ],
 "metadata": {
  "colab": {
   "name": "Week 06 Genetic Algorithm.ipynb",
   "provenance": []
  },
  "kernelspec": {
   "display_name": "Python 3 (ipykernel)",
   "language": "python",
   "name": "python3"
  },
  "language_info": {
   "codemirror_mode": {
    "name": "ipython",
    "version": 3
   },
   "file_extension": ".py",
   "mimetype": "text/x-python",
   "name": "python",
   "nbconvert_exporter": "python",
   "pygments_lexer": "ipython3",
   "version": "3.9.7"
  }
 },
 "nbformat": 4,
 "nbformat_minor": 1
}
